{
 "cells": [
  {
   "cell_type": "markdown",
   "id": "88ab1b7c",
   "metadata": {},
   "source": [
    "My Jupyter Notebook on IBM Watson Studio"
   ]
  },
  {
   "cell_type": "markdown",
   "id": "cb08db31",
   "metadata": {},
   "source": [
    "Gogineni Harsha Vardhini\n",
    "I'm currently a student.\n",
    "I am interested in Data Science because I would love to contribute towards affordable and quality healthcare in the future"
   ]
  },
  {
   "cell_type": "markdown",
   "id": "a19cbfb0",
   "metadata": {},
   "source": [
    "Python\n",
    "R\n",
    "SQL\n",
    "Java\n",
    "Julia\n",
    "Scala\n",
    "C/C++\n",
    "JavaScript\n",
    "Swift\n",
    "Go\n",
    "MATLAB\n",
    "SAS"
   ]
  },
  {
   "cell_type": "code",
   "execution_count": null,
   "id": "d11eadae",
   "metadata": {},
   "outputs": [],
   "source": [
    "TensorFlow\n",
    "NumPy\n",
    "SciPy \n",
    "Pandas\n",
    "Matplotlib \n",
    "Keras\n",
    "SciKit-Learn\n",
    "PyTorch\n",
    "Scrapy\n",
    "BeautifulSoup\n",
    "Caffe2"
   ]
  },
  {
   "cell_type": "markdown",
   "id": "60da842f",
   "metadata": {},
   "source": [
    "tableau\n",
    "excel\n",
    "rapidminer\n",
    "dataminer\n",
    "datarobot\n",
    "qlikview\n",
    "H2O\n",
    "tensorflow\n",
    "bigML\n",
    "snowflake"
   ]
  },
  {
   "cell_type": "code",
   "execution_count": 1,
   "id": "6cd2a37a",
   "metadata": {},
   "outputs": [
    {
     "name": "stdout",
     "output_type": "stream",
     "text": [
      "Sum:  9\n",
      "Subtraction:  5\n",
      "Multiplication:  14\n",
      "Division:  3.5\n",
      "Floor Division:  3\n",
      "Modulo:  1\n",
      "Power:  49\n"
     ]
    }
   ],
   "source": [
    "a = 7\n",
    "b = 2\n",
    "\n",
    "# addition\n",
    "print ('Sum: ', a + b)  \n",
    "\n",
    "# subtraction\n",
    "print ('Subtraction: ', a - b)   \n",
    "\n",
    "# multiplication\n",
    "print ('Multiplication: ', a * b)  \n",
    "\n",
    "# division\n",
    "print ('Division: ', a / b) \n",
    "\n",
    "# floor division\n",
    "print ('Floor Division: ', a // b)\n",
    "\n",
    "# modulo\n",
    "print ('Modulo: ', a % b)  \n",
    "\n",
    "# a to the power b\n",
    "print ('Power: ', a ** b)   "
   ]
  },
  {
   "cell_type": "code",
   "execution_count": 2,
   "id": "0341e79c",
   "metadata": {},
   "outputs": [
    {
     "name": "stdout",
     "output_type": "stream",
     "text": [
      "Product of 2 and 3 is 6\n"
     ]
    }
   ],
   "source": [
    "num_1 = 2\n",
    "num_2 = 3\n",
    "product = num_1 * num_2\n",
    "print(\"Product of {} and {} is {}\".format(num_1, num_2,product))\n"
   ]
  },
  {
   "cell_type": "code",
   "execution_count": 3,
   "id": "8ff1e94c",
   "metadata": {},
   "outputs": [
    {
     "name": "stdout",
     "output_type": "stream",
     "text": [
      "3:25:45\n"
     ]
    }
   ],
   "source": [
    "def convert(seconds):\n",
    "    seconds = seconds % (24 * 3600)\n",
    "    hour = seconds // 3600\n",
    "    seconds %= 3600\n",
    "    minutes = seconds // 60\n",
    "    seconds %= 60\n",
    "     \n",
    "    return \"%d:%02d:%02d\" % (hour, minutes, seconds)\n",
    "     \n",
    "n = 12345\n",
    "print(convert(n))\n"
   ]
  },
  {
   "cell_type": "markdown",
   "id": "d194a009",
   "metadata": {},
   "source": [
    "Write a Python program that takes two numbers as input from the user and performs multiplication and addition operations on them. The program should then display the results"
   ]
  },
  {
   "cell_type": "markdown",
   "id": "bb2ca2bc",
   "metadata": {},
   "source": [
    "Gogineni Harsha Vardhini"
   ]
  },
  {
   "cell_type": "code",
   "execution_count": null,
   "id": "0cff7ffb",
   "metadata": {},
   "outputs": [],
   "source": []
  }
 ],
 "metadata": {
  "kernelspec": {
   "display_name": "Python 3 (ipykernel)",
   "language": "python",
   "name": "python3"
  },
  "language_info": {
   "codemirror_mode": {
    "name": "ipython",
    "version": 3
   },
   "file_extension": ".py",
   "mimetype": "text/x-python",
   "name": "python",
   "nbconvert_exporter": "python",
   "pygments_lexer": "ipython3",
   "version": "3.10.9"
  }
 },
 "nbformat": 4,
 "nbformat_minor": 5
}
